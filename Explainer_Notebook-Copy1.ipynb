{
 "cells": [
  {
   "cell_type": "markdown",
   "metadata": {},
   "source": [
    "# Explainer Notebook\n",
    "This notebook was written by:\n",
    "* Martin Petersson, s103619\n",
    "* Christoffer Jensen, s103148"
   ]
  },
  {
   "cell_type": "markdown",
   "metadata": {},
   "source": [
    "## Motivation"
   ]
  },
  {
   "cell_type": "markdown",
   "metadata": {},
   "source": [
    "We have chosen to collect data from the Game of Thrones universe. The data was collected from various sites and API's, such as:\n",
    "* *API's*:\n",
    "    * https://api.got.show/api/\n",
    "* *Sites*:\n",
    "    * http://gameofthrones.wikia.com/wiki/\n",
    "    \n",
    "The API found at https://api.got.show/api/ actually uses the data from http://gameofthrones.wikia.com/wiki/, but we had to use both, since their API did not have all data from the site.\n",
    "\n",
    "*Description of dataset: * \n",
    "\n",
    "> We have collected all the characters from Game of Thrones. For each character we have also collected their wikia page and which house they belong to (for community detection)"
   ]
  },
  {
   "cell_type": "markdown",
   "metadata": {},
   "source": [
    "We have chosen this particular dataset becuase..."
   ]
  },
  {
   "cell_type": "markdown",
   "metadata": {},
   "source": [
    "Our goal for the end user's experience was to ..."
   ]
  },
  {
   "cell_type": "markdown",
   "metadata": {},
   "source": [
    "2) **Basic stats**. \n",
    "* Write about your choices in data cleaning and preprocessing\n",
    "* Write a short section that discusses the dataset stats (here you can recycle the work you did for Project Assignment A)"
   ]
  },
  {
   "cell_type": "markdown",
   "metadata": {},
   "source": [
    "3) **Tools, theory and analysis**. Describe the process of theory to insight \n",
    "* Talk about how you've worked with text, including regular expressions, unicode, etc.\n",
    "* Describe which network science tools and data analysis strategies you've used, how those network science measures work, and why the tools you've chosen are right for the problem you're solving.\n",
    "* How did you use the tools to understand your dataset?    "
   ]
  },
  {
   "cell_type": "markdown",
   "metadata": {},
   "source": [
    "4) **Discussion.** Think critically about your creation\n",
    "* What went well?,\n",
    "* What is still missing? What could be improved?, Why? "
   ]
  },
  {
   "cell_type": "markdown",
   "metadata": {},
   "source": [
    "# References\n",
    "* Barabási, Albert-László. Network Science. 1st ed. 2016. \n"
   ]
  }
 ],
 "metadata": {
  "anaconda-cloud": {},
  "kernelspec": {
   "display_name": "Python [Root]",
   "language": "python",
   "name": "Python [Root]"
  },
  "language_info": {
   "codemirror_mode": {
    "name": "ipython",
    "version": 2
   },
   "file_extension": ".py",
   "mimetype": "text/x-python",
   "name": "python",
   "nbconvert_exporter": "python",
   "pygments_lexer": "ipython2",
   "version": "2.7.12"
  }
 },
 "nbformat": 4,
 "nbformat_minor": 1
}
